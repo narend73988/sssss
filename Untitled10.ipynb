{
 "cells": [
  {
   "cell_type": "code",
   "execution_count": null,
   "id": "a53ae013-acee-4837-8e70-41d57cb1776b",
   "metadata": {},
   "outputs": [],
   "source": [
    "import statistics\n",
    "imp;ort numpy as np\n",
    "data =[4,8,6,5,3,2,,8,9,2,5]\n",
    "mean = statistics.mean(data)\n"
   ]
  }
 ],
 "metadata": {
  "kernelspec": {
   "display_name": "Python [conda env:base] *",
   "language": "python",
   "name": "conda-base-py"
  },
  "language_info": {
   "codemirror_mode": {
    "name": "ipython",
    "version": 3
   },
   "file_extension": ".py",
   "mimetype": "text/x-python",
   "name": "python",
   "nbconvert_exporter": "python",
   "pygments_lexer": "ipython3",
   "version": "3.12.7"
  }
 },
 "nbformat": 4,
 "nbformat_minor": 5
}
